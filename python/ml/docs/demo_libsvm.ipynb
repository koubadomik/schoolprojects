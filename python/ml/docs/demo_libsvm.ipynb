{
 "cells": [
  {
   "cell_type": "code",
   "execution_count": 7,
   "metadata": {},
   "outputs": [
    {
     "name": "stdout",
     "output_type": "stream",
     "text": [
      "(1000, 1000)\n",
      "(1000,)\n",
      "Accuracy = 100% (4/4) (classification)\n",
      "Accuracy = 100% (2/2) (classification)\n"
     ]
    }
   ],
   "source": [
    "from libsvm.svmutil import *\n",
    "from sklearn.datasets import load_svmlight_file\n",
    "import numpy as np\n",
    "import scipy.sparse as sparse\n",
    "\n",
    "\n",
    "def train(K, labels, C):\n",
    "    K = sparse.hstack((1+np.arange(len(labels))[:,None], K)).A\n",
    "    prob = svm_problem(labels, K, isKernel=True)\n",
    "    param = svm_parameter('-t 4 -c ' + str(C))\n",
    "    return svm_train(prob, param)\n",
    "\n",
    "\n",
    "def evaluate(K, labels, model):\n",
    "    K = sparse.hstack((1+np.arange(len(labels))[:,None], K)).A\n",
    "    pred_labels, accuracy, _ = svm_predict(labels, K, model)\n",
    "    return accuracy[0]\n",
    "\n",
    "\n",
    "# load kernel matrix from svm light file\n",
    "[trnK,trnY] = load_svmlight_file(\"dns_data_kernel/trn_kernel_mat.svmlight\")\n",
    "\n",
    "print( trnK.shape)\n",
    "print( trnY.shape)\n",
    "\n",
    "\n",
    "# train SVM on toy 2D data using linear kernel\n",
    "trnX = np.array([[0, 1, 0, 1], [1,1,0, 0]]) # inputs\n",
    "trnY = np.array( [1,1,-1,-1]) # labels\n",
    "\n",
    "trnK = sparse.csr_matrix( np.dot( trnX.transpose(),trnX) )\n",
    "\n",
    "C = 1\n",
    "model = train( trnK , trnY, C)\n",
    "\n",
    "trn_accuracy = evaluate( trnK, trnY, model)\n",
    "num_support_vectors = len(model.get_SV())\n",
    "\n",
    "\n",
    "# evaluate SVM on test data\n",
    "tstX = np.array([[0.5, 0.5], [1,0]])\n",
    "tstY = np.array( [1,-1])\n",
    "\n",
    "tstK = sparse.csr_matrix( np.dot( tstX.transpose(),trnX) )\n",
    "tst_accuracy = evaluate( tstK, tstY, model)\n"
   ]
  }
 ],
 "metadata": {
  "kernelspec": {
   "display_name": "svm_homework",
   "language": "python",
   "name": "svm_homework"
  },
  "language_info": {
   "codemirror_mode": {
    "name": "ipython",
    "version": 3
   },
   "file_extension": ".py",
   "mimetype": "text/x-python",
   "name": "python",
   "nbconvert_exporter": "python",
   "pygments_lexer": "ipython3",
   "version": "3.7.9"
  }
 },
 "nbformat": 4,
 "nbformat_minor": 4
}
